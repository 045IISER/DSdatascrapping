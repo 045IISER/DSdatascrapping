{
 "cells": [
  {
   "cell_type": "code",
   "execution_count": 1,
   "id": "018d0957",
   "metadata": {},
   "outputs": [
    {
     "name": "stdout",
     "output_type": "stream",
     "text": [
      "Requirement already satisfied: bs4 in /home/codespace/.python/current/lib/python3.12/site-packages (0.0.2)\n",
      "Requirement already satisfied: beautifulsoup4 in /home/codespace/.local/lib/python3.12/site-packages (from bs4) (4.13.4)\n",
      "Requirement already satisfied: soupsieve>1.2 in /home/codespace/.local/lib/python3.12/site-packages (from beautifulsoup4->bs4) (2.7)\n",
      "Requirement already satisfied: typing-extensions>=4.0.0 in /home/codespace/.local/lib/python3.12/site-packages (from beautifulsoup4->bs4) (4.14.1)\n",
      "\n",
      "\u001b[1m[\u001b[0m\u001b[34;49mnotice\u001b[0m\u001b[1;39;49m]\u001b[0m\u001b[39;49m A new release of pip is available: \u001b[0m\u001b[31;49m25.1.1\u001b[0m\u001b[39;49m -> \u001b[0m\u001b[32;49m25.2\u001b[0m\n",
      "\u001b[1m[\u001b[0m\u001b[34;49mnotice\u001b[0m\u001b[1;39;49m]\u001b[0m\u001b[39;49m To update, run: \u001b[0m\u001b[32;49mpip install --upgrade pip\u001b[0m\n",
      "Note: you may need to restart the kernel to use updated packages.\n"
     ]
    }
   ],
   "source": [
    "##install\n",
    "%pip install bs4\n"
   ]
  },
  {
   "cell_type": "code",
   "execution_count": 2,
   "id": "50cd2de9",
   "metadata": {},
   "outputs": [
    {
     "name": "stdout",
     "output_type": "stream",
     "text": [
      "Requirement already satisfied: pandas in /home/codespace/.python/current/lib/python3.12/site-packages (2.3.2)\n",
      "Requirement already satisfied: numpy>=1.26.0 in /home/codespace/.local/lib/python3.12/site-packages (from pandas) (2.3.1)\n",
      "Requirement already satisfied: python-dateutil>=2.8.2 in /home/codespace/.local/lib/python3.12/site-packages (from pandas) (2.9.0.post0)\n",
      "Requirement already satisfied: pytz>=2020.1 in /home/codespace/.local/lib/python3.12/site-packages (from pandas) (2025.2)\n",
      "Requirement already satisfied: tzdata>=2022.7 in /home/codespace/.local/lib/python3.12/site-packages (from pandas) (2025.2)\n",
      "Requirement already satisfied: six>=1.5 in /home/codespace/.local/lib/python3.12/site-packages (from python-dateutil>=2.8.2->pandas) (1.17.0)\n",
      "\n",
      "\u001b[1m[\u001b[0m\u001b[34;49mnotice\u001b[0m\u001b[1;39;49m]\u001b[0m\u001b[39;49m A new release of pip is available: \u001b[0m\u001b[31;49m25.1.1\u001b[0m\u001b[39;49m -> \u001b[0m\u001b[32;49m25.2\u001b[0m\n",
      "\u001b[1m[\u001b[0m\u001b[34;49mnotice\u001b[0m\u001b[1;39;49m]\u001b[0m\u001b[39;49m To update, run: \u001b[0m\u001b[32;49mpip install --upgrade pip\u001b[0m\n",
      "Note: you may need to restart the kernel to use updated packages.\n"
     ]
    }
   ],
   "source": [
    "%pip install pandas"
   ]
  },
  {
   "cell_type": "code",
   "execution_count": 3,
   "id": "babd29fb",
   "metadata": {},
   "outputs": [
    {
     "name": "stdout",
     "output_type": "stream",
     "text": [
      "Requirement already satisfied: lxml in /home/codespace/.python/current/lib/python3.12/site-packages (6.0.2)\n",
      "\n",
      "\u001b[1m[\u001b[0m\u001b[34;49mnotice\u001b[0m\u001b[1;39;49m]\u001b[0m\u001b[39;49m A new release of pip is available: \u001b[0m\u001b[31;49m25.1.1\u001b[0m\u001b[39;49m -> \u001b[0m\u001b[32;49m25.2\u001b[0m\n",
      "\u001b[1m[\u001b[0m\u001b[34;49mnotice\u001b[0m\u001b[1;39;49m]\u001b[0m\u001b[39;49m To update, run: \u001b[0m\u001b[32;49mpip install --upgrade pip\u001b[0m\n",
      "Note: you may need to restart the kernel to use updated packages.\n"
     ]
    }
   ],
   "source": [
    "%pip install lxml"
   ]
  },
  {
   "cell_type": "code",
   "execution_count": 4,
   "id": "5327d321",
   "metadata": {},
   "outputs": [],
   "source": [
    "#imort\n",
    "import pandas as pd\n",
    "import requests\n",
    "from bs4 import BeautifulSoup"
   ]
  },
  {
   "cell_type": "code",
   "execution_count": 5,
   "id": "9b172923",
   "metadata": {},
   "outputs": [
    {
     "name": "stdout",
     "output_type": "stream",
     "text": [
      "<!DOCTYPE html>\n",
      "<html xmlns=\"http://www.w3.org/1999/xhtml\" xml:lang=\"en-gb\" lang=\"en-gb\" dir=\"ltr\">\n",
      "\t<head>\n",
      "\t\t<meta http-equiv=\"X-UA-Compatible\" content=\"IE=edge\">\n",
      "\t\t<meta name=\"viewport\" content=\"width=device-width, initial-scale=1\">\n",
      "\t\t<meta charset=\"utf-8\">\n",
      "\t<meta name=\"generator\" content=\"Joomla! - Open Source Content Management\">\n",
      "\t<title>People</title>\n",
      "\t<link href=\"/images/favicons_iiser/favicon-16x16.png#joomlaImage://local-images/favicons_iiser/favicon-16x16.png?width=16&height=16\" rel=\"ic\n"
     ]
    }
   ],
   "source": [
    "\n",
    "url = \"https://www.iisermohali.ac.in/people#Faculty\"  # replace with real page\n",
    "headers = {\"User-Agent\": \"Mozilla/5.0\"}\n",
    "\n",
    "response = requests.get(url, headers=headers)\n",
    "html = response.text\n",
    "\n",
    "print(html[:500])"
   ]
  },
  {
   "cell_type": "code",
   "execution_count": 6,
   "id": "0ed5ed16",
   "metadata": {},
   "outputs": [],
   "source": [
    "soup = BeautifulSoup(html, \"lxml\")"
   ]
  },
  {
   "cell_type": "code",
   "execution_count": 7,
   "id": "f085c565",
   "metadata": {},
   "outputs": [
    {
     "name": "stdout",
     "output_type": "stream",
     "text": [
      "Found 362 rows\n"
     ]
    }
   ],
   "source": [
    "rows = soup.select(\"tbody tr\")\n",
    "print(f\"Found {len(rows)} rows\")\n"
   ]
  },
  {
   "cell_type": "code",
   "execution_count": 8,
   "id": "c31aedc4",
   "metadata": {},
   "outputs": [
    {
     "name": "stdout",
     "output_type": "stream",
     "text": [
      "[{'name': '', 'profile': '', 'title': '', 'email': ''}, {'name': 'NIRF', 'profile': '/nirf-2', 'title': 'RTI', 'email': ''}, {'name': '', 'profile': '', 'title': 'FACULTYDIRECTORY SEARCH', 'email': ''}]\n"
     ]
    }
   ],
   "source": [
    "faculty_list = []\n",
    "base_url = \"https://www.iisermohali.ac.in/faculty/\"   \n",
    "\n",
    "for row in rows:\n",
    "    cells = row.find_all(\"td\")\n",
    "    \n",
    "    # Name + profile link (first cell)\n",
    "    name_tag = cells[0].select_one(\"a\") if len(cells) > 0 else None\n",
    "    name = name_tag.get_text(strip=True) if name_tag else \"\"\n",
    "    \n",
    "    # Check if 'href' exists\n",
    "    profile = name_tag[\"href\"] if name_tag and name_tag.has_attr(\"href\") else \"\"\n",
    "    \n",
    "    # Title (second cell)\n",
    "    title = cells[1].get_text(strip=True) if len(cells) > 1 else \"\"\n",
    "    \n",
    "    # Email (third cell)\n",
    "    email_tag = cells[2].select_one(\"a[href^='mailto:']\") if len(cells) > 2 else None\n",
    "    email = email_tag[\"href\"].replace(\"mailto:\", \"\") if email_tag else \"\"\n",
    "    \n",
    "    # Save\n",
    "    faculty_list.append({\n",
    "        \"name\": name,\n",
    "        \"profile\": profile,\n",
    "        \"title\": title,\n",
    "        \"email\": email\n",
    "    })\n",
    "\n",
    "print(faculty_list[:3])\n",
    "\n",
    "for faculty in faculty_list:\n",
    "    profile_url = faculty[\"profile\"]\n",
    "    if profile_url:\n",
    "        if profile_url.startswith(\"/\"):\n",
    "            profile_url = base_url + profile_url\n",
    "\n",
    "        try:\n",
    "            resp = requests.get(profile_url, timeout=10)\n",
    "            soup = BeautifulSoup(resp.text, \"lxml\")\n",
    "\n",
    "            # Extract PhD info\n",
    "            phd_text = \"\"\n",
    "            for p in soup.select(\".sppb-addon-content p\"):\n",
    "                if \"Ph.D.\" in p.get_text():\n",
    "                    phd_text = p.get_text(strip=True)\n",
    "            for p in soup.select(\".sppb-addon-content p\"):\n",
    "                if \"PhD\" in p.get_text():\n",
    "                    phd_text = p.get_text(strip=True)\n",
    "\n",
    "\n",
    "            # Extract Postdoc info (optional, if present)\n",
    "            postdoc_text = \"\"\n",
    "            for p in soup.select(\".sppb-addon-content p\"):\n",
    "                if \"Postdoc\" in p.get_text():\n",
    "                    postdoc_text = p.get_text(strip=True)\n",
    "\n",
    "            faculty[\"phd\"] = phd_text\n",
    "            faculty[\"postdoc\"] = postdoc_text\n",
    "\n",
    "        except Exception as e:\n",
    "            print(f\"Error fetching {profile_url}: {e}\")\n",
    "            faculty[\"phd\"] = \"\"\n",
    "            faculty[\"postdoc\"] = \"\"\n",
    "\n",
    "    else:\n",
    "        faculty[\"phd\"] = \"\"\n",
    "        faculty[\"postdoc\"] = \"\"\n"
   ]
  },
  {
   "cell_type": "code",
   "execution_count": 9,
   "id": "ad3c4d5c",
   "metadata": {},
   "outputs": [
    {
     "name": "stdout",
     "output_type": "stream",
     "text": [
      "✅ Data saved to faculty_with_phd.csv\n"
     ]
    }
   ],
   "source": [
    "df = pd.DataFrame(faculty_list)\n",
    "df.to_csv(\"faculty_with_phd.csv\", index=False, encoding=\"utf-8\")\n",
    "\n",
    "print(\"✅ Data saved to faculty_with_phd.csv\")"
   ]
  }
 ],
 "metadata": {
  "kernelspec": {
   "display_name": "Python 3",
   "language": "python",
   "name": "python3"
  },
  "language_info": {
   "codemirror_mode": {
    "name": "ipython",
    "version": 3
   },
   "file_extension": ".py",
   "mimetype": "text/x-python",
   "name": "python",
   "nbconvert_exporter": "python",
   "pygments_lexer": "ipython3",
   "version": "3.12.1"
  }
 },
 "nbformat": 4,
 "nbformat_minor": 5
}
