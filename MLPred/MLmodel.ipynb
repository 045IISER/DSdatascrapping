{
 "cells": [
  {
   "cell_type": "code",
   "execution_count": 11,
   "id": "925120be",
   "metadata": {},
   "outputs": [],
   "source": [
    "import pandas as pd\n",
    "import glob\n",
    "from sklearn.model_selection import train_test_split\n",
    "from sklearn.feature_extraction.text import TfidfVectorizer\n",
    "from sklearn.linear_model import LogisticRegression\n",
    "from sklearn.metrics import classification_report, accuracy_score"
   ]
  },
  {
   "cell_type": "code",
   "execution_count": 33,
   "id": "96e03922",
   "metadata": {},
   "outputs": [
    {
     "name": "stdout",
     "output_type": "stream",
     "text": [
      "✅ Loaded data shape: (618, 9)\n"
     ]
    },
    {
     "data": {
      "text/html": [
       "<div>\n",
       "<style scoped>\n",
       "    .dataframe tbody tr th:only-of-type {\n",
       "        vertical-align: middle;\n",
       "    }\n",
       "\n",
       "    .dataframe tbody tr th {\n",
       "        vertical-align: top;\n",
       "    }\n",
       "\n",
       "    .dataframe thead th {\n",
       "        text-align: right;\n",
       "    }\n",
       "</style>\n",
       "<table border=\"1\" class=\"dataframe\">\n",
       "  <thead>\n",
       "    <tr style=\"text-align: right;\">\n",
       "      <th></th>\n",
       "      <th>name</th>\n",
       "      <th>profile</th>\n",
       "      <th>department</th>\n",
       "      <th>research_area</th>\n",
       "      <th>email</th>\n",
       "      <th>phd</th>\n",
       "      <th>postdoc</th>\n",
       "      <th>source</th>\n",
       "      <th>title</th>\n",
       "    </tr>\n",
       "  </thead>\n",
       "  <tbody>\n",
       "    <tr>\n",
       "      <th>0</th>\n",
       "      <td>Sunil Kumar Khare</td>\n",
       "      <td>https://www.iiserkol.ac.in/web/en/people/facul...</td>\n",
       "      <td>Biological Sciences</td>\n",
       "      <td>Biochemistry, Chemistry and biology, Microbial...</td>\n",
       "      <td>skkhare [AT] iiserkol.ac.in</td>\n",
       "      <td>PhD (Biochemistry), IIT Delhi, 1990</td>\n",
       "      <td>NaN</td>\n",
       "      <td>iiserkol_facultybio.csv</td>\n",
       "      <td>NaN</td>\n",
       "    </tr>\n",
       "    <tr>\n",
       "      <th>1</th>\n",
       "      <td>Amirul Islam Mallick</td>\n",
       "      <td>https://www.iiserkol.ac.in/web/en/people/facul...</td>\n",
       "      <td>Biological Sciences</td>\n",
       "      <td>Host-pathogen interaction, Molecular Immunolog...</td>\n",
       "      <td>amallick [AT] iiserkol.ac.in</td>\n",
       "      <td>PhD (Biotechnology), Interdisciplinary Biotech...</td>\n",
       "      <td>NaN</td>\n",
       "      <td>iiserkol_facultybio.csv</td>\n",
       "      <td>NaN</td>\n",
       "    </tr>\n",
       "    <tr>\n",
       "      <th>2</th>\n",
       "      <td>Amit Kumar Mandal</td>\n",
       "      <td>https://www.iiserkol.ac.in/web/en/people/facul...</td>\n",
       "      <td>Biological Sciences</td>\n",
       "      <td>Molecular Medicine - Structural proteomics and...</td>\n",
       "      <td>amitkm [AT] iiserkol.ac.in</td>\n",
       "      <td>PhD (Biophysical Chemistry), Bose Institute (J...</td>\n",
       "      <td>Postdoctoral Fellow, University of Texas Healt...</td>\n",
       "      <td>iiserkol_facultybio.csv</td>\n",
       "      <td>NaN</td>\n",
       "    </tr>\n",
       "    <tr>\n",
       "      <th>3</th>\n",
       "      <td>Anindita Bhadra</td>\n",
       "      <td>https://www.iiserkol.ac.in/web/en/people/facul...</td>\n",
       "      <td>Biological Sciences</td>\n",
       "      <td>Animal behaviour, ecology and evolution</td>\n",
       "      <td>abhadra [AT] iiserkol.ac.in</td>\n",
       "      <td>PhD (Animal Behaviour), Centre for Ecological ...</td>\n",
       "      <td>NaN</td>\n",
       "      <td>iiserkol_facultybio.csv</td>\n",
       "      <td>NaN</td>\n",
       "    </tr>\n",
       "    <tr>\n",
       "      <th>4</th>\n",
       "      <td>Annagiri Sumana</td>\n",
       "      <td>https://www.iiserkol.ac.in/web/en/people/facul...</td>\n",
       "      <td>Biological Sciences</td>\n",
       "      <td>Behaviour and Ecology</td>\n",
       "      <td>sumana [AT] iiserkol.ac.in</td>\n",
       "      <td>PhD (Dominance Hierarchy in a social wasp), In...</td>\n",
       "      <td>NaN</td>\n",
       "      <td>iiserkol_facultybio.csv</td>\n",
       "      <td>NaN</td>\n",
       "    </tr>\n",
       "  </tbody>\n",
       "</table>\n",
       "</div>"
      ],
      "text/plain": [
       "                   name                                            profile  \\\n",
       "0     Sunil Kumar Khare  https://www.iiserkol.ac.in/web/en/people/facul...   \n",
       "1  Amirul Islam Mallick  https://www.iiserkol.ac.in/web/en/people/facul...   \n",
       "2     Amit Kumar Mandal  https://www.iiserkol.ac.in/web/en/people/facul...   \n",
       "3       Anindita Bhadra  https://www.iiserkol.ac.in/web/en/people/facul...   \n",
       "4       Annagiri Sumana  https://www.iiserkol.ac.in/web/en/people/facul...   \n",
       "\n",
       "            department                                      research_area  \\\n",
       "0  Biological Sciences  Biochemistry, Chemistry and biology, Microbial...   \n",
       "1  Biological Sciences  Host-pathogen interaction, Molecular Immunolog...   \n",
       "2  Biological Sciences  Molecular Medicine - Structural proteomics and...   \n",
       "3  Biological Sciences            Animal behaviour, ecology and evolution   \n",
       "4  Biological Sciences                              Behaviour and Ecology   \n",
       "\n",
       "                          email  \\\n",
       "0   skkhare [AT] iiserkol.ac.in   \n",
       "1  amallick [AT] iiserkol.ac.in   \n",
       "2    amitkm [AT] iiserkol.ac.in   \n",
       "3   abhadra [AT] iiserkol.ac.in   \n",
       "4    sumana [AT] iiserkol.ac.in   \n",
       "\n",
       "                                                 phd  \\\n",
       "0                PhD (Biochemistry), IIT Delhi, 1990   \n",
       "1  PhD (Biotechnology), Interdisciplinary Biotech...   \n",
       "2  PhD (Biophysical Chemistry), Bose Institute (J...   \n",
       "3  PhD (Animal Behaviour), Centre for Ecological ...   \n",
       "4  PhD (Dominance Hierarchy in a social wasp), In...   \n",
       "\n",
       "                                             postdoc                   source  \\\n",
       "0                                                NaN  iiserkol_facultybio.csv   \n",
       "1                                                NaN  iiserkol_facultybio.csv   \n",
       "2  Postdoctoral Fellow, University of Texas Healt...  iiserkol_facultybio.csv   \n",
       "3                                                NaN  iiserkol_facultybio.csv   \n",
       "4                                                NaN  iiserkol_facultybio.csv   \n",
       "\n",
       "  title  \n",
       "0   NaN  \n",
       "1   NaN  \n",
       "2   NaN  \n",
       "3   NaN  \n",
       "4   NaN  "
      ]
     },
     "execution_count": 33,
     "metadata": {},
     "output_type": "execute_result"
    }
   ],
   "source": [
    "file_paths = glob.glob(\"*.csv\")\n",
    "\n",
    "dfs = []\n",
    "for path in file_paths:\n",
    "    df = pd.read_csv(path)  # use a consistent name\n",
    "    df[\"source\"] = path.split(\"/\")[-1]  # add a 'source' column with the file name\n",
    "    dfs.append(df)\n",
    "\n",
    "# Merge all dataframes into one\n",
    "data = pd.concat(dfs, ignore_index=True)\n",
    "print(\"✅ Loaded data shape:\", data.shape)\n",
    "data.head()\n"
   ]
  },
  {
   "cell_type": "code",
   "execution_count": 34,
   "id": "1f0e5af7",
   "metadata": {},
   "outputs": [
    {
     "name": "stdout",
     "output_type": "stream",
     "text": [
      "✅ Combined text example:\n",
      "0              PhD (Biochemistry), IIT Delhi, 1990 nan\n",
      "1    PhD (Biotechnology), Interdisciplinary Biotech...\n",
      "2    PhD (Biophysical Chemistry), Bose Institute (J...\n",
      "3    PhD (Animal Behaviour), Centre for Ecological ...\n",
      "4    PhD (Dominance Hierarchy in a social wasp), In...\n",
      "Name: text, dtype: object\n"
     ]
    }
   ],
   "source": [
    "data[\"text\"] = data[\"phd\"].astype(str) + \" \" + data[\"postdoc\"].astype(str)\n",
    "\n",
    "# Drop empty or NaN text rows\n",
    "data = data.dropna(subset=[\"text\"])\n",
    "print(\"✅ Combined text example:\")\n",
    "print(data[\"text\"].head())"
   ]
  },
  {
   "cell_type": "code",
   "execution_count": 35,
   "id": "4181302d",
   "metadata": {},
   "outputs": [
    {
     "name": "stdout",
     "output_type": "stream",
     "text": [
      "✅ Train samples: 494\n",
      "✅ Test samples: 124\n"
     ]
    }
   ],
   "source": [
    "X = data[\"text\"]\n",
    "y = data[\"source\"]\n",
    "\n",
    "X_train, X_test, y_train, y_test = train_test_split(\n",
    "    X, y, test_size=0.2, random_state=42, stratify=y\n",
    ")\n",
    "\n",
    "print(\"✅ Train samples:\", len(X_train))\n",
    "print(\"✅ Test samples:\", len(X_test))\n"
   ]
  },
  {
   "cell_type": "code",
   "execution_count": 36,
   "id": "6a0df2dc",
   "metadata": {},
   "outputs": [
    {
     "name": "stdout",
     "output_type": "stream",
     "text": [
      "✅ TF-IDF vectorized shape: (494, 703)\n"
     ]
    }
   ],
   "source": [
    "vectorizer = TfidfVectorizer(stop_words=\"english\", max_features=5000)\n",
    "X_train_tfidf = vectorizer.fit_transform(X_train)\n",
    "X_test_tfidf = vectorizer.transform(X_test)\n",
    "\n",
    "print(\"✅ TF-IDF vectorized shape:\", X_train_tfidf.shape)\n"
   ]
  },
  {
   "cell_type": "code",
   "execution_count": 37,
   "id": "60227982",
   "metadata": {},
   "outputs": [
    {
     "name": "stdout",
     "output_type": "stream",
     "text": [
      "✅ Model trained.\n"
     ]
    }
   ],
   "source": [
    "model = LogisticRegression(max_iter=1000)\n",
    "model.fit(X_train_tfidf, y_train)\n",
    "\n",
    "y_pred = model.predict(X_test_tfidf)\n",
    "print(\"✅ Model trained.\")"
   ]
  },
  {
   "cell_type": "code",
   "execution_count": 22,
   "id": "47a4040a",
   "metadata": {},
   "outputs": [
    {
     "name": "stdout",
     "output_type": "stream",
     "text": [
      "🎯 Accuracy: 0.5967741935483871\n",
      "\n",
      "📄 Classification Report:\n",
      "\n",
      "                          precision    recall  f1-score   support\n",
      "\n",
      "    faculty_with_phd.csv       0.59      1.00      0.74        36\n",
      " iiserkol_facultybio.csv       0.00      0.00      0.00         3\n",
      "iiserkol_facultychem.csv       0.00      0.00      0.00         3\n",
      "iiserkol_facultymath.csv       0.00      0.00      0.00         2\n",
      " iiserkol_facultyphy.csv       1.00      0.33      0.50         3\n",
      "    nisersbs_faculty.csv       0.00      0.00      0.00         3\n",
      "    niserscs_faculty.csv       0.00      0.00      0.00         3\n",
      "    nisersms_faculty.csv       0.00      0.00      0.00         4\n",
      "    nisersps_faculty.csv       0.00      0.00      0.00         5\n",
      "\n",
      "                accuracy                           0.60        62\n",
      "               macro avg       0.18      0.15      0.14        62\n",
      "            weighted avg       0.39      0.60      0.46        62\n",
      "\n"
     ]
    },
    {
     "name": "stderr",
     "output_type": "stream",
     "text": [
      "/home/codespace/.local/lib/python3.12/site-packages/sklearn/metrics/_classification.py:1706: UndefinedMetricWarning: Precision is ill-defined and being set to 0.0 in labels with no predicted samples. Use `zero_division` parameter to control this behavior.\n",
      "  _warn_prf(average, modifier, f\"{metric.capitalize()} is\", result.shape[0])\n",
      "/home/codespace/.local/lib/python3.12/site-packages/sklearn/metrics/_classification.py:1706: UndefinedMetricWarning: Precision is ill-defined and being set to 0.0 in labels with no predicted samples. Use `zero_division` parameter to control this behavior.\n",
      "  _warn_prf(average, modifier, f\"{metric.capitalize()} is\", result.shape[0])\n",
      "/home/codespace/.local/lib/python3.12/site-packages/sklearn/metrics/_classification.py:1706: UndefinedMetricWarning: Precision is ill-defined and being set to 0.0 in labels with no predicted samples. Use `zero_division` parameter to control this behavior.\n",
      "  _warn_prf(average, modifier, f\"{metric.capitalize()} is\", result.shape[0])\n"
     ]
    }
   ],
   "source": [
    "print(\"🎯 Accuracy:\", accuracy_score(y_test, y_pred))\n",
    "print(\"\\n📄 Classification Report:\\n\")\n",
    "print(classification_report(y_test, y_pred))"
   ]
  },
  {
   "cell_type": "code",
   "execution_count": null,
   "id": "5d13241f",
   "metadata": {},
   "outputs": [
    {
     "name": "stdout",
     "output_type": "stream",
     "text": [
      "🔍 Predicted CSV belongs to: faculty_with_phd.csv\n"
     ]
    }
   ],
   "source": [
    "new_phd = \"  Max-Planck Institute for Mathematics in  (University of Leipzig), Max-Planck Institute for Molecular Genetics\"\n",
    "new_postdoc = \"\"\n",
    "\n",
    "# Combine text\n",
    "new_text = [new_phd + \" \" + new_postdoc]\n",
    "new_vec = vectorizer.transform(new_text)\n",
    "\n",
    "predicted_source = model.predict(new_vec)[0]\n",
    "print(\"🔍 Predicted CSV belongs to:\", predicted_source)"
   ]
  }
 ],
 "metadata": {
  "kernelspec": {
   "display_name": "Python 3",
   "language": "python",
   "name": "python3"
  },
  "language_info": {
   "codemirror_mode": {
    "name": "ipython",
    "version": 3
   },
   "file_extension": ".py",
   "mimetype": "text/x-python",
   "name": "python",
   "nbconvert_exporter": "python",
   "pygments_lexer": "ipython3",
   "version": "3.12.1"
  }
 },
 "nbformat": 4,
 "nbformat_minor": 5
}
