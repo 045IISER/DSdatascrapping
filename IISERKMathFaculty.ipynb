{
 "cells": [
  {
   "cell_type": "code",
   "execution_count": 1,
   "id": "ced2ab83",
   "metadata": {},
   "outputs": [
    {
     "name": "stdout",
     "output_type": "stream",
     "text": [
      "Requirement already satisfied: bs4 in /home/codespace/.python/current/lib/python3.12/site-packages (0.0.2)\n",
      "Requirement already satisfied: beautifulsoup4 in /home/codespace/.local/lib/python3.12/site-packages (from bs4) (4.13.4)\n",
      "Requirement already satisfied: soupsieve>1.2 in /home/codespace/.local/lib/python3.12/site-packages (from beautifulsoup4->bs4) (2.7)\n",
      "Requirement already satisfied: typing-extensions>=4.0.0 in /home/codespace/.local/lib/python3.12/site-packages (from beautifulsoup4->bs4) (4.14.1)\n",
      "\n",
      "\u001b[1m[\u001b[0m\u001b[34;49mnotice\u001b[0m\u001b[1;39;49m]\u001b[0m\u001b[39;49m A new release of pip is available: \u001b[0m\u001b[31;49m25.1.1\u001b[0m\u001b[39;49m -> \u001b[0m\u001b[32;49m25.2\u001b[0m\n",
      "\u001b[1m[\u001b[0m\u001b[34;49mnotice\u001b[0m\u001b[1;39;49m]\u001b[0m\u001b[39;49m To update, run: \u001b[0m\u001b[32;49mpip install --upgrade pip\u001b[0m\n",
      "Note: you may need to restart the kernel to use updated packages.\n"
     ]
    }
   ],
   "source": [
    "%pip install bs4"
   ]
  },
  {
   "cell_type": "code",
   "execution_count": 2,
   "id": "72a217d3",
   "metadata": {},
   "outputs": [
    {
     "name": "stdout",
     "output_type": "stream",
     "text": [
      "Requirement already satisfied: pandas in /home/codespace/.python/current/lib/python3.12/site-packages (2.3.2)\n",
      "Requirement already satisfied: numpy>=1.26.0 in /home/codespace/.local/lib/python3.12/site-packages (from pandas) (2.3.1)\n",
      "Requirement already satisfied: python-dateutil>=2.8.2 in /home/codespace/.local/lib/python3.12/site-packages (from pandas) (2.9.0.post0)\n",
      "Requirement already satisfied: pytz>=2020.1 in /home/codespace/.local/lib/python3.12/site-packages (from pandas) (2025.2)\n",
      "Requirement already satisfied: tzdata>=2022.7 in /home/codespace/.local/lib/python3.12/site-packages (from pandas) (2025.2)\n",
      "Requirement already satisfied: six>=1.5 in /home/codespace/.local/lib/python3.12/site-packages (from python-dateutil>=2.8.2->pandas) (1.17.0)\n",
      "\n",
      "\u001b[1m[\u001b[0m\u001b[34;49mnotice\u001b[0m\u001b[1;39;49m]\u001b[0m\u001b[39;49m A new release of pip is available: \u001b[0m\u001b[31;49m25.1.1\u001b[0m\u001b[39;49m -> \u001b[0m\u001b[32;49m25.2\u001b[0m\n",
      "\u001b[1m[\u001b[0m\u001b[34;49mnotice\u001b[0m\u001b[1;39;49m]\u001b[0m\u001b[39;49m To update, run: \u001b[0m\u001b[32;49mpip install --upgrade pip\u001b[0m\n",
      "Note: you may need to restart the kernel to use updated packages.\n"
     ]
    }
   ],
   "source": [
    "%pip install pandas"
   ]
  },
  {
   "cell_type": "code",
   "execution_count": 3,
   "id": "303a280a",
   "metadata": {},
   "outputs": [],
   "source": [
    "##IMPORTING ESSENTIALS##\n",
    "import pandas as pd\n",
    "import requests\n",
    "from bs4 import BeautifulSoup"
   ]
  },
  {
   "cell_type": "code",
   "execution_count": 4,
   "id": "daaeb211",
   "metadata": {},
   "outputs": [
    {
     "name": "stdout",
     "output_type": "stream",
     "text": [
      "\n",
      "\n",
      "<!DOCTYPE html>\n",
      "<html lang=\"en\">\n",
      "  <head>\n",
      "    <meta charset=\"utf-8\">\n",
      "    <meta http-equiv=\"X-UA-Compatible\" content=\"IE=edge\">\n",
      "    <meta name=\"viewport\" content=\"width=device-width, initial-scale=1.0\">\n",
      "    <meta name=\"description\" content=\"\">\n",
      "    <meta name=\"author\" content=\"\">\n",
      "\n",
      "    <title>IISER Kolkata - dms</title>\n",
      "\n",
      "    <!--<link href=\"//netdna.bootstrapcdn.com/bootstrap/3.0.0/css/bootstrap.min.css\" rel=\"stylesheet\">-->\n",
      "    \n",
      "    <link href=\"/static/bootstrap/css/bootstrap.min.css\" rel=\"styl\n"
     ]
    }
   ],
   "source": [
    "###SEEING THE WEB\n",
    "\n",
    "url = \"https://www.iiserkol.ac.in/web/en/people/faculty/dms/#gsc.tab=0\"  # replace with real page\n",
    "headers = {\"User-Agent\": \"Mozilla/5.0\"}\n",
    "\n",
    "response = requests.get(url, headers=headers)\n",
    "html = response.text\n",
    "\n",
    "print(html[:500])"
   ]
  },
  {
   "cell_type": "code",
   "execution_count": 5,
   "id": "fec9f8f1",
   "metadata": {},
   "outputs": [],
   "source": [
    "soup = BeautifulSoup(html, \"lxml\")"
   ]
  },
  {
   "cell_type": "code",
   "execution_count": 6,
   "id": "9e2ae0c9",
   "metadata": {},
   "outputs": [
    {
     "name": "stdout",
     "output_type": "stream",
     "text": [
      "Found 18 rows\n"
     ]
    }
   ],
   "source": [
    "rows = soup.select(\"table.cms-plugin td\")\n",
    "print(f\"Found {len(rows)} rows\")"
   ]
  },
  {
   "cell_type": "code",
   "execution_count": 7,
   "id": "6e403114",
   "metadata": {},
   "outputs": [
    {
     "name": "stdout",
     "output_type": "stream",
     "text": [
      "[{'name': 'Anirban Banerjee', 'profile': 'https://www.iiserkol.ac.in/web/en/people/faculty/dms/anirban-banerjee/#gsc.tab=0', 'department': 'Mathematics and Statistics', 'research_area': 'Spectral graph and hypergraph theory, Structure and evolution of biological networks, Human brain functional networks', 'email': 'anirban.banerjee [AT] iiserkol.ac.in'}, {'name': 'Anirvan Chakraborty', 'profile': 'https://www.iiserkol.ac.in/web/en/people/faculty/dms/anirvan-c/#gsc.tab=0', 'department': 'Mathematics and Statistics', 'research_area': 'Statistics', 'email': 'anirvan.c [AT] iiserkol.ac.in'}, {'name': 'Arjun Paul', 'profile': 'https://www.iiserkol.ac.in/web/en/people/faculty/dms/arjun-paul/#gsc.tab=0', 'department': 'Mathematics and Statistics', 'research_area': 'Algebraic Geometry', 'email': 'arjun.paul [AT] iiserkol.ac.in'}]\n"
     ]
    }
   ],
   "source": [
    "faculty_list = []\n",
    "base_url = \"https://www.iiserkol.ac.in/web/en/people/faculty/dms/#gsc.tab=0\"\n",
    "\n",
    "for td in soup.select(\"table.cms-plugin td\"):\n",
    "    name_tag = td.select_one(\"h4 a\")\n",
    "    if not name_tag:\n",
    "        continue\n",
    "\n",
    "    name = name_tag.get_text(strip=True)\n",
    "    profile = name_tag[\"href\"]\n",
    "    if profile.startswith(\"/\"):\n",
    "        profile = \"https://www.iiserkol.ac.in\" + profile +\"/#gsc.tab=0\"\n",
    "\n",
    "    # Get all text inside the td\n",
    "    block_text = td.get_text(\" \", strip=True)\n",
    "\n",
    "    # Extract fields by string search\n",
    "    department = \"\"\n",
    "    research_area = \"\"\n",
    "    email = \"\"\n",
    "\n",
    "    if \"Department:\" in block_text:\n",
    "        department = block_text.split(\"Department:\")[1].split(\"Research Area:\")[0].strip()\n",
    "    if \"Research Area:\" in block_text:\n",
    "        research_area = block_text.split(\"Research Area:\")[1].split(\"Email:\")[0].strip()\n",
    "    if \"Email:\" in block_text:\n",
    "        email = block_text.split(\"Email:\")[1].strip()\n",
    "\n",
    "    faculty_list.append({\n",
    "                      \"name\": name,\n",
    "                      \"profile\": profile,\n",
    "                      \"department\": department,\n",
    "                      \"research_area\": research_area,\n",
    "                      \"email\": email\n",
    "    })\n",
    "\n",
    "print(faculty_list[:3])\n",
    "\n",
    "for faculty in faculty_list:\n",
    "    profile_url = faculty[\"profile\"]\n",
    "    if profile_url:\n",
    "        if profile_url.startswith(\"/\"):\n",
    "            profile_url = base_url + profile_url\n",
    "\n",
    "        try:\n",
    "            resp = requests.get(profile_url, timeout=10)\n",
    "            soup = BeautifulSoup(resp.text, \"lxml\")\n",
    "\n",
    "            # Extract PhD info\n",
    "            phd_text = \"\"\n",
    "            for p in soup.select(\"ol li\"):\n",
    "                if \"Ph.D.\" in p.get_text():\n",
    "                    phd_text = p.get_text(strip=True)\n",
    "            \n",
    "            phd_text = \"\"\n",
    "            for p in soup.select(\"ol li\"):\n",
    "                if \"PhD\" in p.get_text():\n",
    "                    phd_text = p.get_text(strip=True)\n",
    "            \n",
    "\n",
    "            # Extract Postdoc info (optional, if present)\n",
    "            postdoc_text = \"\"\n",
    "            for p in soup.select(\"ol li\"):\n",
    "                if \"Postdoc\" in p.get_text():\n",
    "                    postdoc_text = p.get_text(strip=True)\n",
    "\n",
    "            faculty[\"phd\"] = phd_text\n",
    "            faculty[\"postdoc\"] = postdoc_text\n",
    "\n",
    "        except Exception as e:\n",
    "            print(f\"Error fetching {profile_url}: {e}\")\n",
    "            faculty[\"phd\"] = \"\"\n",
    "            faculty[\"postdoc\"] = \"\"\n",
    "\n",
    "    else:\n",
    "        faculty[\"phd\"] = \"\"\n",
    "        faculty[\"postdoc\"] = \"\""
   ]
  },
  {
   "cell_type": "code",
   "execution_count": 8,
   "id": "a2e4fcf0",
   "metadata": {},
   "outputs": [
    {
     "name": "stdout",
     "output_type": "stream",
     "text": [
      "Saved 18 faculty entries to iiserkol_faculty.csv\n"
     ]
    }
   ],
   "source": [
    "df = pd.DataFrame(faculty_list)\n",
    "df.to_csv(\"iiserkol_facultymath.csv\", index=False, encoding=\"utf-8\")\n",
    "\n",
    "print(f\"Saved {len(df)} faculty entries to iiserkol_faculty.csv\")"
   ]
  }
 ],
 "metadata": {
  "kernelspec": {
   "display_name": "Python 3",
   "language": "python",
   "name": "python3"
  },
  "language_info": {
   "codemirror_mode": {
    "name": "ipython",
    "version": 3
   },
   "file_extension": ".py",
   "mimetype": "text/x-python",
   "name": "python",
   "nbconvert_exporter": "python",
   "pygments_lexer": "ipython3",
   "version": "3.12.1"
  }
 },
 "nbformat": 4,
 "nbformat_minor": 5
}
