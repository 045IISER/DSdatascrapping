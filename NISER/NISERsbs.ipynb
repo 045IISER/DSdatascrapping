{
 "cells": [
  {
   "cell_type": "code",
   "execution_count": 2,
   "id": "f9713222",
   "metadata": {},
   "outputs": [
    {
     "name": "stdout",
     "output_type": "stream",
     "text": [
      "Requirement already satisfied: bs4 in /home/codespace/.python/current/lib/python3.12/site-packages (0.0.2)\n",
      "Requirement already satisfied: beautifulsoup4 in /home/codespace/.local/lib/python3.12/site-packages (from bs4) (4.13.4)\n",
      "Requirement already satisfied: soupsieve>1.2 in /home/codespace/.local/lib/python3.12/site-packages (from beautifulsoup4->bs4) (2.7)\n",
      "Requirement already satisfied: typing-extensions>=4.0.0 in /home/codespace/.local/lib/python3.12/site-packages (from beautifulsoup4->bs4) (4.14.1)\n",
      "\n",
      "\u001b[1m[\u001b[0m\u001b[34;49mnotice\u001b[0m\u001b[1;39;49m]\u001b[0m\u001b[39;49m A new release of pip is available: \u001b[0m\u001b[31;49m25.1.1\u001b[0m\u001b[39;49m -> \u001b[0m\u001b[32;49m25.2\u001b[0m\n",
      "\u001b[1m[\u001b[0m\u001b[34;49mnotice\u001b[0m\u001b[1;39;49m]\u001b[0m\u001b[39;49m To update, run: \u001b[0m\u001b[32;49mpip install --upgrade pip\u001b[0m\n",
      "Note: you may need to restart the kernel to use updated packages.\n"
     ]
    }
   ],
   "source": [
    "pip install bs4"
   ]
  },
  {
   "cell_type": "code",
   "execution_count": 3,
   "id": "ed64b969",
   "metadata": {},
   "outputs": [
    {
     "name": "stdout",
     "output_type": "stream",
     "text": [
      "Requirement already satisfied: pandas in /home/codespace/.python/current/lib/python3.12/site-packages (2.3.2)\n",
      "Requirement already satisfied: numpy>=1.26.0 in /home/codespace/.local/lib/python3.12/site-packages (from pandas) (2.3.1)\n",
      "Requirement already satisfied: python-dateutil>=2.8.2 in /home/codespace/.local/lib/python3.12/site-packages (from pandas) (2.9.0.post0)\n",
      "Requirement already satisfied: pytz>=2020.1 in /home/codespace/.local/lib/python3.12/site-packages (from pandas) (2025.2)\n",
      "Requirement already satisfied: tzdata>=2022.7 in /home/codespace/.local/lib/python3.12/site-packages (from pandas) (2025.2)\n",
      "Requirement already satisfied: six>=1.5 in /home/codespace/.local/lib/python3.12/site-packages (from python-dateutil>=2.8.2->pandas) (1.17.0)\n",
      "\n",
      "\u001b[1m[\u001b[0m\u001b[34;49mnotice\u001b[0m\u001b[1;39;49m]\u001b[0m\u001b[39;49m A new release of pip is available: \u001b[0m\u001b[31;49m25.1.1\u001b[0m\u001b[39;49m -> \u001b[0m\u001b[32;49m25.2\u001b[0m\n",
      "\u001b[1m[\u001b[0m\u001b[34;49mnotice\u001b[0m\u001b[1;39;49m]\u001b[0m\u001b[39;49m To update, run: \u001b[0m\u001b[32;49mpip install --upgrade pip\u001b[0m\n",
      "Note: you may need to restart the kernel to use updated packages.\n"
     ]
    }
   ],
   "source": [
    "pip install pandas"
   ]
  },
  {
   "cell_type": "code",
   "execution_count": 4,
   "id": "dd36546a",
   "metadata": {},
   "outputs": [],
   "source": [
    "import pandas as pd\n",
    "import requests\n",
    "from bs4 import BeautifulSoup"
   ]
  },
  {
   "cell_type": "code",
   "execution_count": 5,
   "id": "3e221083",
   "metadata": {},
   "outputs": [
    {
     "name": "stdout",
     "output_type": "stream",
     "text": [
      "<!DOCTYPE html>\n",
      "<html lang=\"en\">\n",
      "<head>\n",
      "  <title>NISER</title>\n",
      "  <meta charset=\"utf-8\">\n",
      "  <meta name=\"viewport\" content=\"width=device-width, initial-scale=1.0\">\n",
      "  <meta name=\"MobileOptimized\" content=\"width\">\n",
      "  <meta name=\"HandheldFriendly\" content=\"true\">\n",
      "  <meta name=\"robots\" content=\"nocache, index, nofollow\">\n",
      "  <meta name=\"description\" content=\"National Institute of Science Education and Research Bhubaneswar\">\n",
      "  <meta name=\"keywords\" content=\"research, autonomous, dae, central gove\n"
     ]
    }
   ],
   "source": [
    "import requests\n",
    "\n",
    "url = \"https://www.niser.ac.in/people/fac/sbs\"  # replace with real page\n",
    "headers = {\"User-Agent\": \"Mozilla/5.0\"}\n",
    "\n",
    "response = requests.get(url, headers=headers)\n",
    "html = response.text\n",
    "\n",
    "print(html[:500])"
   ]
  },
  {
   "cell_type": "code",
   "execution_count": 6,
   "id": "d4a3f676",
   "metadata": {},
   "outputs": [],
   "source": [
    "soup = BeautifulSoup(html, \"lxml\")"
   ]
  },
  {
   "cell_type": "code",
   "execution_count": 7,
   "id": "f154963c",
   "metadata": {},
   "outputs": [
    {
     "name": "stdout",
     "output_type": "stream",
     "text": [
      "Found 28 rows\n"
     ]
    }
   ],
   "source": [
    "rows = soup.select(\"div.card-body\")\n",
    "print(f\"Found {len(rows)} rows\")\n"
   ]
  },
  {
   "cell_type": "code",
   "execution_count": 8,
   "id": "e883d38a",
   "metadata": {},
   "outputs": [
    {
     "name": "stdout",
     "output_type": "stream",
     "text": [
      "Found 28 faculty entries\n"
     ]
    }
   ],
   "source": [
    "import requests\n",
    "from bs4 import BeautifulSoup\n",
    "import re\n",
    "import pandas as pd\n",
    "import time\n",
    "\n",
    "base_url = \"https://www.niser.ac.in\"\n",
    "faculty_url = base_url + \"/people/fac/sbs\"\n",
    "\n",
    "faculty_list = []\n",
    "\n",
    "# Step 1: Fetch main faculty page\n",
    "resp = requests.get(faculty_url, timeout=10)\n",
    "soup = BeautifulSoup(resp.text, \"lxml\")\n",
    "\n",
    "# Each faculty card\n",
    "for card in soup.select(\"div.card-body.text-start\"):\n",
    "    # Name + profile link\n",
    "    name_tag = card.select_one(\"h5 a\")\n",
    "    name = name_tag.get_text(strip=True) if name_tag else \"\"\n",
    "    profile = base_url + name_tag[\"href\"] if name_tag and name_tag.has_attr(\"href\") else \"\"\n",
    "\n",
    "    # Title / designation\n",
    "    title_tag = card.select_one(\"p.color-gray\")\n",
    "    title = title_tag.get_text(\" \", strip=True) if title_tag else \"\"\n",
    "\n",
    "    # Email (reconstructed from pieces)\n",
    "    email = \"\"\n",
    "    mail_font = card.select_one(\"font[color='tomato']\")\n",
    "    mail_span = card.select_one(\"span.f12\")\n",
    "    if mail_font and mail_span:\n",
    "        email = f\"{mail_font.get_text(strip=True)}@{mail_span.get_text(strip=True)}\"\n",
    "\n",
    "    faculty_list.append({\n",
    "        \"name\": name,\n",
    "        \"profile\": profile,\n",
    "        \"title\": title,\n",
    "        \"email\": email\n",
    "    })\n",
    "\n",
    "print(f\"Found {len(faculty_list)} faculty entries\")\n",
    "\n",
    "for faculty in faculty_list:\n",
    "    profile_url = faculty.get(\"profile\", \"\")\n",
    "    if profile_url:\n",
    "        # Handle relative URLs\n",
    "        if profile_url.startswith(\"/\"):\n",
    "            profile_url = base_url + profile_url\n",
    "\n",
    "        if not profile_url.startswith(\"http\"):\n",
    "            profile_url = \"https://\" + profile_url\n",
    "\n",
    "        try:\n",
    "            resp = requests.get(profile_url, timeout=10)\n",
    "            resp.raise_for_status()\n",
    "            soup = BeautifulSoup(resp.text, \"lxml\")\n",
    "\n",
    "            phd_text = \"\"\n",
    "            postdoc_text = \"\"\n",
    "\n",
    "            # Find the Education accordion\n",
    "            education_div = soup.select_one(\"div.accordion-body\")\n",
    "            if education_div:\n",
    "                for p in education_div.find_all(\"p\"):\n",
    "                    text = p.get_text(strip=True)\n",
    "                    if \"PhD\" in text or \"Ph.D.\" in text or \"PhD thesis work\" in text:\n",
    "                        phd_text = text\n",
    "                    elif \"Postdoc\" in text or \"Postdoctoral\" in text or \"Post doctoral\" in text:\n",
    "                        postdoc_text = text\n",
    "\n",
    "            faculty[\"phd\"] = phd_text\n",
    "            faculty[\"postdoc\"] = postdoc_text\n",
    "\n",
    "        except Exception as e:\n",
    "            print(f\"Error fetching {profile_url}: {e}\")\n",
    "            faculty[\"phd\"] = \"\"\n",
    "            faculty[\"postdoc\"] = \"\"\n",
    "    else:\n",
    "        faculty[\"phd\"] = \"\"\n",
    "        faculty[\"postdoc\"] = \"\"\n",
    "\n"
   ]
  },
  {
   "cell_type": "code",
   "execution_count": 9,
   "id": "a36277ef",
   "metadata": {},
   "outputs": [
    {
     "name": "stdout",
     "output_type": "stream",
     "text": [
      "Saved 28 faculty entries to nisersbs_faculty.csv\n"
     ]
    }
   ],
   "source": [
    "df = pd.DataFrame(faculty_list)\n",
    "df.to_csv(\"nisersbs_faculty.csv\", index=False, encoding=\"utf-8\")\n",
    "\n",
    "print(f\"Saved {len(df)} faculty entries to nisersbs_faculty.csv\")"
   ]
  }
 ],
 "metadata": {
  "kernelspec": {
   "display_name": "Python 3",
   "language": "python",
   "name": "python3"
  },
  "language_info": {
   "codemirror_mode": {
    "name": "ipython",
    "version": 3
   },
   "file_extension": ".py",
   "mimetype": "text/x-python",
   "name": "python",
   "nbconvert_exporter": "python",
   "pygments_lexer": "ipython3",
   "version": "3.12.1"
  }
 },
 "nbformat": 4,
 "nbformat_minor": 5
}
