{
 "cells": [
  {
   "cell_type": "code",
   "execution_count": 1,
   "id": "fbb15cea",
   "metadata": {},
   "outputs": [
    {
     "name": "stdout",
     "output_type": "stream",
     "text": [
      "Requirement already satisfied: bs4 in /usr/local/python/3.12.1/lib/python3.12/site-packages (0.0.2)\n",
      "Requirement already satisfied: beautifulsoup4 in /home/codespace/.local/lib/python3.12/site-packages (from bs4) (4.13.4)\n",
      "Requirement already satisfied: soupsieve>1.2 in /home/codespace/.local/lib/python3.12/site-packages (from beautifulsoup4->bs4) (2.7)\n",
      "Requirement already satisfied: typing-extensions>=4.0.0 in /home/codespace/.local/lib/python3.12/site-packages (from beautifulsoup4->bs4) (4.14.1)\n",
      "\n",
      "\u001b[1m[\u001b[0m\u001b[34;49mnotice\u001b[0m\u001b[1;39;49m]\u001b[0m\u001b[39;49m A new release of pip is available: \u001b[0m\u001b[31;49m25.1.1\u001b[0m\u001b[39;49m -> \u001b[0m\u001b[32;49m25.2\u001b[0m\n",
      "\u001b[1m[\u001b[0m\u001b[34;49mnotice\u001b[0m\u001b[1;39;49m]\u001b[0m\u001b[39;49m To update, run: \u001b[0m\u001b[32;49mpython -m pip install --upgrade pip\u001b[0m\n",
      "Note: you may need to restart the kernel to use updated packages.\n"
     ]
    }
   ],
   "source": [
    "%pip install bs4"
   ]
  },
  {
   "cell_type": "code",
   "execution_count": 2,
   "id": "92efc68b",
   "metadata": {},
   "outputs": [
    {
     "name": "stdout",
     "output_type": "stream",
     "text": [
      "Requirement already satisfied: lxml in /usr/local/python/3.12.1/lib/python3.12/site-packages (6.0.2)\n",
      "\n",
      "\u001b[1m[\u001b[0m\u001b[34;49mnotice\u001b[0m\u001b[1;39;49m]\u001b[0m\u001b[39;49m A new release of pip is available: \u001b[0m\u001b[31;49m25.1.1\u001b[0m\u001b[39;49m -> \u001b[0m\u001b[32;49m25.2\u001b[0m\n",
      "\u001b[1m[\u001b[0m\u001b[34;49mnotice\u001b[0m\u001b[1;39;49m]\u001b[0m\u001b[39;49m To update, run: \u001b[0m\u001b[32;49mpython -m pip install --upgrade pip\u001b[0m\n",
      "Note: you may need to restart the kernel to use updated packages.\n"
     ]
    }
   ],
   "source": [
    "%pip install lxml"
   ]
  },
  {
   "cell_type": "code",
   "execution_count": 3,
   "id": "1aefb4e9",
   "metadata": {},
   "outputs": [
    {
     "name": "stdout",
     "output_type": "stream",
     "text": [
      "Requirement already satisfied: pandas in /usr/local/python/3.12.1/lib/python3.12/site-packages (2.3.2)\n",
      "Requirement already satisfied: numpy>=1.26.0 in /home/codespace/.local/lib/python3.12/site-packages (from pandas) (2.3.1)\n",
      "Requirement already satisfied: python-dateutil>=2.8.2 in /home/codespace/.local/lib/python3.12/site-packages (from pandas) (2.9.0.post0)\n",
      "Requirement already satisfied: pytz>=2020.1 in /home/codespace/.local/lib/python3.12/site-packages (from pandas) (2025.2)\n",
      "Requirement already satisfied: tzdata>=2022.7 in /home/codespace/.local/lib/python3.12/site-packages (from pandas) (2025.2)\n",
      "Requirement already satisfied: six>=1.5 in /home/codespace/.local/lib/python3.12/site-packages (from python-dateutil>=2.8.2->pandas) (1.17.0)\n",
      "\n",
      "\u001b[1m[\u001b[0m\u001b[34;49mnotice\u001b[0m\u001b[1;39;49m]\u001b[0m\u001b[39;49m A new release of pip is available: \u001b[0m\u001b[31;49m25.1.1\u001b[0m\u001b[39;49m -> \u001b[0m\u001b[32;49m25.2\u001b[0m\n",
      "\u001b[1m[\u001b[0m\u001b[34;49mnotice\u001b[0m\u001b[1;39;49m]\u001b[0m\u001b[39;49m To update, run: \u001b[0m\u001b[32;49mpython -m pip install --upgrade pip\u001b[0m\n",
      "Note: you may need to restart the kernel to use updated packages.\n"
     ]
    }
   ],
   "source": [
    "%pip install pandas"
   ]
  },
  {
   "cell_type": "code",
   "execution_count": 4,
   "id": "d66e8255",
   "metadata": {},
   "outputs": [
    {
     "name": "stderr",
     "output_type": "stream",
     "text": [
      "/home/codespace/.local/lib/python3.12/site-packages/urllib3/connectionpool.py:1097: InsecureRequestWarning: Unverified HTTPS request is being made to host 'phy.iiserb.ac.in'. Adding certificate verification is strongly advised. See: https://urllib3.readthedocs.io/en/latest/advanced-usage.html#tls-warnings\n",
      "  warnings.warn(\n"
     ]
    },
    {
     "name": "stdout",
     "output_type": "stream",
     "text": [
      "<!DOCTYPE html>\n",
      "<html lang=\"en\">\n",
      "<head>\n",
      "<meta charset=\"utf-8\">\n",
      "<meta http-equiv=\"X-UA-Compatible\" content=\"IE=edge\">\n",
      "<meta name=\"viewport\" content=\"width=device-width, initial-scale=1\">\n",
      "<title>IISER Bhopal</title>\n",
      "\n",
      "<!-- CSS -->\n",
      "<link rel=\"stylesheet\" href=\"http://fonts.googleapis.com/css?family=Open+Sans:400italic,400\">\n",
      "<link rel=\"stylesheet\" href=\"http://fonts.googleapis.com/css?family=Droid+Sans\">\n",
      "<link rel=\"stylesheet\" href=\"http://fonts.googleapis.com/css?family=Lobster\">\n",
      "<link r\n"
     ]
    }
   ],
   "source": [
    "import requests\n",
    "\n",
    "url = \"https://phy.iiserb.ac.in/faculty\"\n",
    "headers = {\"User-Agent\": \"Mozilla/5.0\"}\n",
    "response = requests.get(url, headers=headers, verify=False)\n",
    "html = response.text\n",
    "\n",
    "print(html[:500])"
   ]
  },
  {
   "cell_type": "code",
   "execution_count": 6,
   "id": "b325e941",
   "metadata": {},
   "outputs": [
    {
     "name": "stdout",
     "output_type": "stream",
     "text": [
      "✅ Saved: Arnab Rudra\n",
      "✅ Saved: Mayuresh Surnis\n",
      "✅ Saved: Nabamita Banerjee\n",
      "✅ Saved: Rahul Srivastava\n",
      "✅ Saved: Rajib Saha\n",
      "✅ Saved: Ritam Mallick\n",
      "✅ Saved: Sukanta Panda\n",
      "✅ Saved: Suvankar Dutta\n",
      "✅ Saved: Arnab Khan\n",
      "✅ Saved: Dhanvir Singh Rana\n",
      "✅ Saved: K V Adarsh\n",
      "✅ Saved: Phani Kumar Peddibhotla\n",
      "✅ Saved: Ravi Prakash Singh\n",
      "⚠️ Profile fetch failed for Ravi Shankar Singh (https://phy.iiserb.ac.in/faculty_details?rssingh): 500 Server Error: Internal Server Error for url: https://phy.iiserb.ac.in/faculty_details?rssingh\n",
      "✅ Saved: Ravi Shankar Singh\n",
      "✅ Saved: Rohan Singh\n",
      "✅ Saved: Surajit Saha\n",
      "✅ Saved: Chandan Samanta\n",
      "✅ Saved: Adarsh Bhaskar Vasista\n",
      "✅ Saved: Auditya Sharma\n",
      "✅ Saved: Nirmal Ganguli\n",
      "✅ Saved: Snigdha Thakur\n",
      "✅ Saved: Suhas Gangadharaiah\n",
      "✅ Saved: Sunil Pratap Singh\n",
      "⚠️ Profile fetch failed for Subhash Chaturvedi (https://phy.iiserb.ac.in/faculty_details?subhash): 500 Server Error: Internal Server Error for url: https://phy.iiserb.ac.in/faculty_details?subhash\n",
      "✅ Saved: Subhash Chaturvedi\n",
      "⚠️ Profile fetch failed for Lokesh Tribedi (https://phy.iiserb.ac.in/faculty_details?subhash): 500 Server Error: Internal Server Error for url: https://phy.iiserb.ac.in/faculty_details?subhash\n",
      "✅ Saved: Lokesh Tribedi\n",
      "⚠️ Profile fetch failed for Subhendra Mohanty (https://phy.iiserb.ac.in/faculty_details?subhash): 500 Server Error: Internal Server Error for url: https://phy.iiserb.ac.in/faculty_details?subhash\n",
      "✅ Saved: Subhendra Mohanty\n",
      "⚠️ Profile fetch failed for Sebastian Wüster (https://phy.iiserb.ac.in/faculty_details?subhash): 500 Server Error: Internal Server Error for url: https://phy.iiserb.ac.in/faculty_details?subhash\n",
      "✅ Saved: Sebastian Wüster\n",
      "✅ Saved: Sarika Singh\n",
      "✅ Saved: \n",
      "✅ Saved: \n",
      "🎉 Scraping completed! Data saved to iiserb_physics_faculty_full.csv\n"
     ]
    }
   ],
   "source": [
    "# --- Imports ---\n",
    "import requests\n",
    "from bs4 import BeautifulSoup\n",
    "import csv\n",
    "import time\n",
    "from urllib.parse import urljoin\n",
    "\n",
    "requests.packages.urllib3.disable_warnings()\n",
    "\n",
    "BASE_URL = \"https://phy.iiserb.ac.in\"\n",
    "FACULTY_PAGE = f\"{BASE_URL}/faculty\"\n",
    "HEADERS = {\"User-Agent\": \"Mozilla/5.0\"}\n",
    "\n",
    "# Fetch faculty listing\n",
    "response = requests.get(FACULTY_PAGE, headers=HEADERS, verify=False)\n",
    "response.raise_for_status()\n",
    "soup = BeautifulSoup(response.text, \"html.parser\")\n",
    "\n",
    "csv_file = \"iiserb_physics_faculty_full.csv\"\n",
    "with open(csv_file, \"w\", newline=\"\", encoding=\"utf-8\") as f:\n",
    "    writer = csv.writer(f)\n",
    "    writer.writerow([\n",
    "        \"Section\", \"Name\", \"Designation\", \"Research Area\",\n",
    "        \"Phone\", \"Email\", \"Image\", \"Profile Link\", \"PhD\", \"Postdoc\"\n",
    "    ])\n",
    "\n",
    "    sections = soup.select(\"div.container > div.row\")\n",
    "    current_section = \"\"\n",
    "\n",
    "    for section in sections:\n",
    "        title_tag = section.select_one(\".portfolio-filters a.filter-all\")\n",
    "        if title_tag:\n",
    "            current_section = title_tag.get_text(strip=True)\n",
    "\n",
    "        for faculty in section.select(\"div.col-sm-3\"):\n",
    "            try:\n",
    "                img_tag = faculty.find(\"img\")\n",
    "                image = urljoin(BASE_URL, img_tag[\"src\"]) if img_tag else \"\"\n",
    "\n",
    "                name_tag = faculty.find(\"h3\")\n",
    "                name = name_tag.get_text(strip=True) if name_tag else \"\"\n",
    "                profile_tag = name_tag.find(\"a\") if name_tag else None\n",
    "                profile_link = urljoin(BASE_URL, profile_tag[\"href\"].strip()) if profile_tag else \"\"\n",
    "\n",
    "                p_tag = faculty.find(\"p\")\n",
    "                designation = research = phone = email = \"\"\n",
    "                if p_tag:\n",
    "                    lines = [line.strip() for line in p_tag.decode_contents().split(\"<br>\") if line.strip()]\n",
    "                    designation = lines[0] if len(lines) > 0 else \"\"\n",
    "                    research = lines[1] if len(lines) > 1 else \"\"\n",
    "                    phone = lines[2] if len(lines) > 2 else \"\"\n",
    "                    email = lines[3] if len(lines) > 3 else \"\"\n",
    "\n",
    "                phd_institute = \"\"\n",
    "                postdoc_institute = \"\"\n",
    "\n",
    "                # Fetch profile details safely\n",
    "                if profile_link:\n",
    "                    try:\n",
    "                        prof_resp = requests.get(profile_link, headers=HEADERS, verify=False, timeout=10)\n",
    "                        prof_resp.raise_for_status()\n",
    "                        prof_soup = BeautifulSoup(prof_resp.text, \"html.parser\")\n",
    "\n",
    "                        academic_section = prof_soup.select_one(\"div.col-sm-9 ul\")\n",
    "                        if academic_section:\n",
    "                            for li in academic_section.select(\"li\"):\n",
    "                                text = li.get_text(strip=True)\n",
    "                                if (\"Ph.D\" in text or \"PhD\" in text) and not phd_institute:\n",
    "                                    if \"Department\" in text:\n",
    "                                        phd_institute = text.split(\"Department\")[-1].strip()\n",
    "                                    elif \"from\" in text:\n",
    "                                        phd_institute = text.split(\"from\")[-1].strip()\n",
    "                                    else:\n",
    "                                        phd_institute = text\n",
    "                                elif (\"Post-Doctoral\" in text or \"Postdoctoral\" in text) and not postdoc_institute:\n",
    "                                    if \"Post-Doctoral Research Scholar\" in text:\n",
    "                                        postdoc_institute = text.split(\"Post-Doctoral Research Scholar\")[-1].strip()\n",
    "                                    elif \"Postdoctoral\" in text:\n",
    "                                        postdoc_institute = text.split(\"Postdoctoral\")[-1].strip()\n",
    "                                    else:\n",
    "                                        postdoc_institute = text\n",
    "\n",
    "                        time.sleep(0.5)  # polite delay\n",
    "\n",
    "                    except Exception as e:\n",
    "                        print(f\"⚠️ Profile fetch failed for {name} ({profile_link}): {e}\")\n",
    "\n",
    "                writer.writerow([\n",
    "                    current_section, name, designation, research,\n",
    "                    phone, email, image, profile_link,\n",
    "                    phd_institute, postdoc_institute\n",
    "                ])\n",
    "                print(f\"✅ Saved: {name}\")\n",
    "\n",
    "            except Exception as e:\n",
    "                print(f\"⚠️ Skipped faculty due to error: {e}\")\n",
    "\n",
    "print(f\"🎉 Scraping completed! Data saved to {csv_file}\")\n"
   ]
  }
 ],
 "metadata": {
  "kernelspec": {
   "display_name": "Python 3",
   "language": "python",
   "name": "python3"
  },
  "language_info": {
   "codemirror_mode": {
    "name": "ipython",
    "version": 3
   },
   "file_extension": ".py",
   "mimetype": "text/x-python",
   "name": "python",
   "nbconvert_exporter": "python",
   "pygments_lexer": "ipython3",
   "version": "3.12.1"
  }
 },
 "nbformat": 4,
 "nbformat_minor": 5
}
