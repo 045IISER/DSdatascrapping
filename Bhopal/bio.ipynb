{
 "cells": [
  {
   "cell_type": "code",
   "execution_count": 9,
   "id": "19dfd024",
   "metadata": {},
   "outputs": [
    {
     "name": "stdout",
     "output_type": "stream",
     "text": [
      "Requirement already satisfied: bs4 in /usr/local/python/3.12.1/lib/python3.12/site-packages (0.0.2)\n",
      "Requirement already satisfied: beautifulsoup4 in /home/codespace/.local/lib/python3.12/site-packages (from bs4) (4.13.4)\n",
      "Requirement already satisfied: soupsieve>1.2 in /home/codespace/.local/lib/python3.12/site-packages (from beautifulsoup4->bs4) (2.7)\n",
      "Requirement already satisfied: typing-extensions>=4.0.0 in /home/codespace/.local/lib/python3.12/site-packages (from beautifulsoup4->bs4) (4.14.1)\n",
      "\n",
      "\u001b[1m[\u001b[0m\u001b[34;49mnotice\u001b[0m\u001b[1;39;49m]\u001b[0m\u001b[39;49m A new release of pip is available: \u001b[0m\u001b[31;49m25.1.1\u001b[0m\u001b[39;49m -> \u001b[0m\u001b[32;49m25.2\u001b[0m\n",
      "\u001b[1m[\u001b[0m\u001b[34;49mnotice\u001b[0m\u001b[1;39;49m]\u001b[0m\u001b[39;49m To update, run: \u001b[0m\u001b[32;49mpython -m pip install --upgrade pip\u001b[0m\n",
      "Note: you may need to restart the kernel to use updated packages.\n"
     ]
    }
   ],
   "source": [
    "%pip install bs4"
   ]
  },
  {
   "cell_type": "code",
   "execution_count": 19,
   "id": "d55b5618",
   "metadata": {},
   "outputs": [
    {
     "name": "stdout",
     "output_type": "stream",
     "text": [
      "Collecting lxml\n",
      "  Downloading lxml-6.0.2-cp312-cp312-manylinux_2_26_x86_64.manylinux_2_28_x86_64.whl.metadata (3.6 kB)\n",
      "Downloading lxml-6.0.2-cp312-cp312-manylinux_2_26_x86_64.manylinux_2_28_x86_64.whl (5.3 MB)\n",
      "\u001b[2K   \u001b[90m━━━━━━━━━━━━━━━━━━━━━━━━━━━━━━━━━━━━━━━━\u001b[0m \u001b[32m5.3/5.3 MB\u001b[0m \u001b[31m13.5 MB/s\u001b[0m eta \u001b[36m0:00:00\u001b[0m00:01\u001b[0m0:01\u001b[0m\n",
      "\u001b[?25hInstalling collected packages: lxml\n",
      "Successfully installed lxml-6.0.2\n",
      "\n",
      "\u001b[1m[\u001b[0m\u001b[34;49mnotice\u001b[0m\u001b[1;39;49m]\u001b[0m\u001b[39;49m A new release of pip is available: \u001b[0m\u001b[31;49m25.1.1\u001b[0m\u001b[39;49m -> \u001b[0m\u001b[32;49m25.2\u001b[0m\n",
      "\u001b[1m[\u001b[0m\u001b[34;49mnotice\u001b[0m\u001b[1;39;49m]\u001b[0m\u001b[39;49m To update, run: \u001b[0m\u001b[32;49mpython -m pip install --upgrade pip\u001b[0m\n",
      "Note: you may need to restart the kernel to use updated packages.\n"
     ]
    }
   ],
   "source": [
    "%pip install lxml"
   ]
  },
  {
   "cell_type": "code",
   "execution_count": 10,
   "id": "bb867ccf",
   "metadata": {},
   "outputs": [
    {
     "name": "stdout",
     "output_type": "stream",
     "text": [
      "Requirement already satisfied: pandas in /home/codespace/.local/lib/python3.12/site-packages (2.3.1)\n",
      "Requirement already satisfied: numpy>=1.26.0 in /home/codespace/.local/lib/python3.12/site-packages (from pandas) (2.3.1)\n",
      "Requirement already satisfied: python-dateutil>=2.8.2 in /home/codespace/.local/lib/python3.12/site-packages (from pandas) (2.9.0.post0)\n",
      "Requirement already satisfied: pytz>=2020.1 in /home/codespace/.local/lib/python3.12/site-packages (from pandas) (2025.2)\n",
      "Requirement already satisfied: tzdata>=2022.7 in /home/codespace/.local/lib/python3.12/site-packages (from pandas) (2025.2)\n",
      "Requirement already satisfied: six>=1.5 in /home/codespace/.local/lib/python3.12/site-packages (from python-dateutil>=2.8.2->pandas) (1.17.0)\n",
      "\n",
      "\u001b[1m[\u001b[0m\u001b[34;49mnotice\u001b[0m\u001b[1;39;49m]\u001b[0m\u001b[39;49m A new release of pip is available: \u001b[0m\u001b[31;49m25.1.1\u001b[0m\u001b[39;49m -> \u001b[0m\u001b[32;49m25.2\u001b[0m\n",
      "\u001b[1m[\u001b[0m\u001b[34;49mnotice\u001b[0m\u001b[1;39;49m]\u001b[0m\u001b[39;49m To update, run: \u001b[0m\u001b[32;49mpython -m pip install --upgrade pip\u001b[0m\n",
      "Note: you may need to restart the kernel to use updated packages.\n"
     ]
    }
   ],
   "source": [
    "%pip install pandas"
   ]
  },
  {
   "cell_type": "code",
   "execution_count": null,
   "id": "e8319de0",
   "metadata": {},
   "outputs": [
    {
     "name": "stdout",
     "output_type": "stream",
     "text": [
      "<style>\n",
      "\n",
      "    \n",
      ".MultiCarousel {\n",
      "\tfloat: left;\n",
      "\toverflow: hidden;\n",
      "\tpadding: 15px;\n",
      "\twidth: 100%;\n",
      "\tposition: relative;\n",
      "}\n",
      ".MultiCarousel .MultiCarousel-inner {\n",
      "\ttransition: 1s ease all;\n",
      "\tfloat: left;\n",
      "}\n",
      ".MultiCarousel .MultiCarousel-inner .item {\n",
      "\tfloat: left;\n",
      "}\n",
      "\n",
      "/* .item{\n",
      "    width: 200px;\n",
      "} */\n",
      "\n",
      ".MultiCarousel .MultiCarousel-inner .item > div {\n",
      "\ttext-align: center;\n",
      "\tpadding: 10px;\n",
      "\tmargin: 10px;\n",
      "\t/* background: #EFF0F5;\n",
      "\tcolor: #E4E4E4; */\n",
      "}\n",
      ".MultiCarousel .leftLst,\n",
      ".Mul\n"
     ]
    },
    {
     "name": "stderr",
     "output_type": "stream",
     "text": [
      "/home/codespace/.local/lib/python3.12/site-packages/urllib3/connectionpool.py:1097: InsecureRequestWarning: Unverified HTTPS request is being made to host 'bio.iiserb.ac.in'. Adding certificate verification is strongly advised. See: https://urllib3.readthedocs.io/en/latest/advanced-usage.html#tls-warnings\n",
      "  warnings.warn(\n"
     ]
    }
   ],
   "source": [
    "import requests\n",
    "\n",
    "url = \"https://bio.iiserb.ac.in/faculty\"  # replace with real page\n",
    "headers = {\"User-Agent\": \"Mozilla/5.0\"}\n",
    "response = requests.get(url, headers=headers, verify=False)\n",
    "html = response.text\n",
    "\n",
    "print(html[:500])"
   ]
  },
  {
   "cell_type": "code",
   "execution_count": 12,
   "id": "80fa02a3",
   "metadata": {},
   "outputs": [],
   "source": [
    "import pandas as pd\n",
    "import requests\n",
    "from bs4 import BeautifulSoup"
   ]
  },
  {
   "cell_type": "code",
   "execution_count": 24,
   "id": "5dbac6aa",
   "metadata": {},
   "outputs": [
    {
     "name": "stdout",
     "output_type": "stream",
     "text": [
      "<style>\n",
      "\n",
      "    \n",
      ".MultiCarousel {\n",
      "\tfloat: left;\n",
      "\toverflow: hidden;\n",
      "\tpadding: 15px;\n",
      "\twidth: 100%;\n",
      "\tposition: relative;\n",
      "}\n",
      ".MultiCarousel .MultiCarousel-inner {\n",
      "\ttransition: 1s ease all;\n",
      "\tfloat: left;\n",
      "}\n",
      ".MultiCarousel .MultiCarousel-inner .item {\n",
      "\tfloat: left;\n",
      "}\n",
      "\n",
      "/* .item{\n",
      "    width: 200px;\n",
      "} */\n",
      "\n",
      ".MultiCarousel .MultiCarousel-inner .item > div {\n",
      "\ttext-align: center;\n",
      "\tpadding: 10px;\n",
      "\tmargin: 10px;\n",
      "\t/* background: #EFF0F5;\n",
      "\tcolor: #E4E4E4; */\n",
      "}\n",
      ".MultiCarousel .leftLst,\n",
      ".Mul\n"
     ]
    }
   ],
   "source": [
    "import requests\n",
    "\n",
    "url = \"https://bio.iiserb.ac.in/faculty\"  # replace with real page\n",
    "headers = {\"User-Agent\": \"Mozilla/5.0\"}\n",
    "\n",
    "response = requests.get(url, headers=headers)\n",
    "html = response.text\n",
    "\n",
    "print(html[:500])"
   ]
  },
  {
   "cell_type": "code",
   "execution_count": 23,
   "id": "4d5d70d7",
   "metadata": {},
   "outputs": [],
   "source": [
    "from bs4 import BeautifulSoup\n",
    "import requests\n",
    "import csv\n",
    "import time  # optional, to pause between requests\n",
    "\n",
    "BASE_URL = \"https://bio.iiserb.ac.in\"\n",
    "\n",
    "# 1️⃣ Load main page\n",
    "url = f\"{BASE_URL}/Home/Faculty\"\n",
    "page = requests.get(url)\n",
    "soup = BeautifulSoup(html, \"html.parser\")\n",
    "\n",
    "# 2️⃣ Select all faculty blocks\n",
    "faculty_blocks = soup.select(\"div#myTabContent div.col-md-3.prdct-grid\")\n",
    "\n",
    "# 3️⃣ Open CSV\n",
    "with open(\"faculty_bhopbio.csv\", \"w\", newline='', encoding=\"utf-8\") as f:\n",
    "    writer = csv.writer(f)\n",
    "    writer.writerow([\n",
    "        \"Name\", \"Profile Link\", \"Designation\", \"Email\",\n",
    "        \"Research Area\", \"Room\", \"Phone\", \"Image Link\",\n",
    "        \"PhD\", \"Postdoc\"\n",
    "    ])\n",
    "\n",
    "    for block in faculty_blocks:\n",
    "        # main page info\n",
    "        img_tag = block.select_one(\"img\")\n",
    "        img_link = img_tag.get(\"src\").strip() if img_tag else \"\"\n",
    "\n",
    "        name_tag = block.select_one(\"div.product-name strong\")\n",
    "        name = name_tag.text.strip() if name_tag else \"\"\n",
    "        profile_tag = block.select_one(\"div.product-name a[href^='https']\")\n",
    "        profile_link = profile_tag.get(\"href\").strip() if profile_tag else \"\"\n",
    "\n",
    "        p_tag = block.select_one(\"div.product-name p\")\n",
    "        text_lines = [t.strip() for t in p_tag.get_text(separator=\"\\n\").split(\"\\n\") if t.strip()] if p_tag else []\n",
    "\n",
    "        designation = text_lines[0] if len(text_lines) > 0 else \"\"\n",
    "        email = next((t for t in text_lines if \"@\" in t), \"\")\n",
    "        research = next((t for t in text_lines if \" and \" in t or \"Biology\" in t or \"Chemistry\" in t), \"\")\n",
    "        room = next((t for t in text_lines if \"Room\" in t), \"\")\n",
    "        phone = next((t for t in text_lines if \"+91\" in t or t.replace(\" \", \"\").isdigit()), \"\")\n",
    "\n",
    "        phd = \"\"\n",
    "        postdoc = \"\"\n",
    "\n",
    "        if profile_link:\n",
    "            try:\n",
    "                 profile_page = requests.get(profile_link)\n",
    "                 profile_soup = BeautifulSoup(profile_page.text, \"html.parser\")\n",
    "   \n",
    "            # The \"Academic Details\" section is inside div with id=\"collapseOne-m\"\n",
    "                 academic_section = profile_soup.find(\"div\", id=\"collapseOne-m\")\n",
    "\n",
    "                 if academic_section:\n",
    "            # Each academic detail is within <div class=\"row list\"><utility-title>...</utility-title></div>\n",
    "                    for tag in academic_section.select(\"div.row.list utility-title\"):\n",
    "                       text = tag.get_text(strip=True)\n",
    "\n",
    "                       if \"Ph.D\" in text or \"PhD\" in text:\n",
    "                          phd = text\n",
    "                       elif \"Postdoctoral\" in text or \"Postdoc\" in text:\n",
    "                          postdoc = text\n",
    "\n",
    "            except Exception as e:\n",
    "               print(f\"Failed to fetch {profile_link}: {e}\")\n",
    "        # 5️⃣ Write row to CSV\n",
    "        writer.writerow([\n",
    "            name, profile_link, designation, email, research, room, phone, img_link, phd, postdoc\n",
    "        ])\n"
   ]
  }
 ],
 "metadata": {
  "kernelspec": {
   "display_name": "Python 3",
   "language": "python",
   "name": "python3"
  },
  "language_info": {
   "codemirror_mode": {
    "name": "ipython",
    "version": 3
   },
   "file_extension": ".py",
   "mimetype": "text/x-python",
   "name": "python",
   "nbconvert_exporter": "python",
   "pygments_lexer": "ipython3",
   "version": "3.12.1"
  }
 },
 "nbformat": 4,
 "nbformat_minor": 5
}
