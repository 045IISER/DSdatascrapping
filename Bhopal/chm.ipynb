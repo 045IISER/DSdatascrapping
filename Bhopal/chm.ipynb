{
 "cells": [
  {
   "cell_type": "code",
   "execution_count": 2,
   "id": "1fae1e9a",
   "metadata": {},
   "outputs": [],
   "source": [
    "import pandas as pd\n",
    "import requests\n",
    "from bs4 import BeautifulSoup"
   ]
  },
  {
   "cell_type": "code",
   "execution_count": 1,
   "id": "6526e06c",
   "metadata": {},
   "outputs": [
    {
     "name": "stdout",
     "output_type": "stream",
     "text": [
      "<!--// Set XSS protection (legacy)-->\n",
      "\n",
      "<style>\n",
      ".MultiCarousel {\n",
      "\tfloat: left;\n",
      "\toverflow: hidden;\n",
      "\tpadding: 15px;\n",
      "\twidth: 100%;\n",
      "\tposition: relative;\n",
      "}\n",
      ".MultiCarousel .MultiCarousel-inner {\n",
      "\ttransition: 1s ease all;\n",
      "\tfloat: left;\n",
      "}\n",
      ".MultiCarousel .MultiCarousel-inner .item {\n",
      "\tfloat: left;\n",
      "}\n",
      ".MultiCarousel .MultiCarousel-inner .item > div {\n",
      "\ttext-align: center;\n",
      "\tpadding: 10px;\n",
      "\tmargin: 10px;\n",
      "\tbackground: #EFF0F5;\n",
      "\tcolor: #E4E4E4;\n",
      "}\n",
      ".MultiCarousel .leftLst,\n",
      ".MultiCarousel .r\n"
     ]
    },
    {
     "name": "stderr",
     "output_type": "stream",
     "text": [
      "/home/codespace/.local/lib/python3.12/site-packages/urllib3/connectionpool.py:1097: InsecureRequestWarning: Unverified HTTPS request is being made to host 'chm.iiserb.ac.in'. Adding certificate verification is strongly advised. See: https://urllib3.readthedocs.io/en/latest/advanced-usage.html#tls-warnings\n",
      "  warnings.warn(\n"
     ]
    }
   ],
   "source": [
    "import requests\n",
    "\n",
    "url = \"https://chm.iiserb.ac.in/faculty\"  # replace with real page\n",
    "headers = {\"User-Agent\": \"Mozilla/5.0\"}\n",
    "response = requests.get(url, headers=headers, verify=False)\n",
    "html = response.text\n",
    "\n",
    "print(html[:500])"
   ]
  },
  {
   "cell_type": "code",
   "execution_count": 4,
   "id": "1bc67084",
   "metadata": {},
   "outputs": [
    {
     "name": "stdout",
     "output_type": "stream",
     "text": [
      "Scraping completed! Data saved to iiserb_faculty.csv\n"
     ]
    },
    {
     "name": "stderr",
     "output_type": "stream",
     "text": [
      "/home/codespace/.local/lib/python3.12/site-packages/urllib3/connectionpool.py:1097: InsecureRequestWarning: Unverified HTTPS request is being made to host 'chm.iiserb.ac.in'. Adding certificate verification is strongly advised. See: https://urllib3.readthedocs.io/en/latest/advanced-usage.html#tls-warnings\n",
      "  warnings.warn(\n"
     ]
    }
   ],
   "source": [
    "import requests\n",
    "from bs4 import BeautifulSoup\n",
    "import csv\n",
    "import time\n",
    "\n",
    "BASE_URL = \"https://chm.iiserb.ac.in\"  # main site\n",
    "FACULTY_PAGE = f\"{BASE_URL}/Home/Faculty\"\n",
    "\n",
    "headers = {\"User-Agent\": \"Mozilla/5.0\"}\n",
    "\n",
    "# Use verify=False if SSL gives errors\n",
    "response = requests.get(FACULTY_PAGE, headers=headers, verify=False)\n",
    "soup = BeautifulSoup(response.text, \"html.parser\")\n",
    "\n",
    "faculty_blocks = soup.select(\"div#myTabContent div.col-md-3.prdct-grid\")\n",
    "\n",
    "with open(\"iiserb_faculty.csv\", \"w\", newline=\"\", encoding=\"utf-8\") as f:\n",
    "    writer = csv.writer(f)\n",
    "    writer.writerow([\"Name\", \"Designation\", \"Email\", \"Profile Link\", \"PhD\", \"Postdoc\"])\n",
    "\n",
    "    for block in faculty_blocks:\n",
    "        # Name\n",
    "        name_tag = block.select_one(\"div.product-name strong\")\n",
    "        name = name_tag.text.strip() if name_tag else \"\"\n",
    "\n",
    "        # Profile link\n",
    "        profile_tag = block.select_one(\"div.product-name a[href^='http']\")\n",
    "        profile_link = profile_tag.get(\"href\").strip() if profile_tag else \"\"\n",
    "\n",
    "        # Other info (designation, email)\n",
    "        p_tag = block.select_one(\"div.product-name p\")\n",
    "        text_lines = [t.strip() for t in p_tag.get_text(separator=\"\\n\").split(\"\\n\") if t.strip()] if p_tag else []\n",
    "        designation = text_lines[0] if len(text_lines) > 0 else \"\"\n",
    "        email = next((t for t in text_lines if \"@\" in t), \"\")\n",
    "\n",
    "        # Initialize\n",
    "        phd = \"\"\n",
    "        postdoc = \"\"\n",
    "\n",
    "        if profile_link:\n",
    "            try:\n",
    "                prof_resp = requests.get(profile_link, headers=headers, verify=False)\n",
    "                prof_soup = BeautifulSoup(prof_resp.text, \"html.parser\")\n",
    "                li_tags = prof_soup.select(\"div.row.clearfix li\")\n",
    "\n",
    "                for li in li_tags:\n",
    "                    text = li.get_text(strip=True)\n",
    "                    if \"Ph.D\" in text or \"PhD\" in text:\n",
    "                        phd = text\n",
    "                    elif \"Postdoctoral\" in text or \"Postdoc\" in text:\n",
    "                        postdoc = text\n",
    "\n",
    "                time.sleep(0.5)  # polite delay\n",
    "            except Exception as e:\n",
    "                print(f\"Failed to fetch {profile_link}: {e}\")\n",
    "\n",
    "        writer.writerow([name, designation, email, profile_link, phd, postdoc])\n",
    "\n",
    "print(\"Scraping completed! Data saved to iiserb_faculty.csv\")\n"
   ]
  }
 ],
 "metadata": {
  "kernelspec": {
   "display_name": "Python 3",
   "language": "python",
   "name": "python3"
  },
  "language_info": {
   "codemirror_mode": {
    "name": "ipython",
    "version": 3
   },
   "file_extension": ".py",
   "mimetype": "text/x-python",
   "name": "python",
   "nbconvert_exporter": "python",
   "pygments_lexer": "ipython3",
   "version": "3.12.1"
  }
 },
 "nbformat": 4,
 "nbformat_minor": 5
}
