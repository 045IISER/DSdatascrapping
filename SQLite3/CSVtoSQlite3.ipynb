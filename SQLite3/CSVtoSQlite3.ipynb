{
 "cells": [
  {
   "cell_type": "code",
   "execution_count": 2,
   "id": "1403eba3",
   "metadata": {},
   "outputs": [
    {
     "name": "stdout",
     "output_type": "stream",
     "text": [
      "✅ All CSVs successfully saved to SQLite database as 'tables\n",
      "     name\n",
      "0  table1\n",
      "1  table2\n",
      "2  table3\n",
      "3  table4\n",
      "4  table5\n",
      "5  table6\n",
      "6  table7\n",
      "7  table8\n",
      "8  table9\n"
     ]
    }
   ],
   "source": [
    "import pandas as pd\n",
    "import sqlite3\n",
    "\n",
    "# ---- Step 1: specify your CSV file paths ----\n",
    "# Example paths — change these to your actual file locations\n",
    "csv_file1 = \"faculty_with_phd.csv\"\n",
    "csv_file2 = \"iiserkol_facultybio.csv\"\n",
    "csv_file3 = \"iiserkol_facultyphy.csv\"\n",
    "csv_file4 = \"iiserkol_facultychem.csv\"\n",
    "csv_file5 = \"iiserkol_facultymath.csv\"\n",
    "csv_file6 = \"nisersbs_faculty.csv\"\n",
    "csv_file7 = \"niserscs_faculty.csv\"\n",
    "csv_file8 = \"nisersms_faculty.csv\"\n",
    "csv_file9 = \"nisersps_faculty.csv\"\n",
    "# ---- Step 2: connect/create SQLite database ----\n",
    "conn = sqlite3.connect(\"Faculty_data.db\")\n",
    "\n",
    "# ---- Step 3: read both CSVs into pandas ----\n",
    "df1 = pd.read_csv(csv_file1)\n",
    "df2 = pd.read_csv(csv_file2)\n",
    "df3 = pd.read_csv(csv_file3)\n",
    "df4 = pd.read_csv(csv_file4)\n",
    "df5 = pd.read_csv(csv_file5)\n",
    "df6 = pd.read_csv(csv_file6)\n",
    "df7 = pd.read_csv(csv_file7)\n",
    "df8 = pd.read_csv(csv_file8)\n",
    "df9 = pd.read_csv(csv_file9)\n",
    "\n",
    "# ---- Step 4: write them into SQLite tables ----\n",
    "df1.to_sql(\"table1\", conn, if_exists=\"replace\", index=False)\n",
    "df2.to_sql(\"table2\", conn, if_exists=\"replace\", index=False)\n",
    "df3.to_sql(\"table3\", conn, if_exists=\"replace\", index=False)\n",
    "df4.to_sql(\"table4\", conn, if_exists=\"replace\", index=False)\n",
    "df5.to_sql(\"table5\", conn, if_exists=\"replace\", index=False)\n",
    "df6.to_sql(\"table6\", conn, if_exists=\"replace\", index=False)\n",
    "df7.to_sql(\"table7\", conn, if_exists=\"replace\", index=False)\n",
    "df8.to_sql(\"table8\", conn, if_exists=\"replace\", index=False)\n",
    "df9.to_sql(\"table9\", conn, if_exists=\"replace\", index=False)\n",
    "\n",
    "print(\"✅ All CSVs successfully saved to SQLite database as 'tables\")\n",
    "\n",
    "# ---- Optional: verify tables ----\n",
    "print(pd.read_sql(\"SELECT name FROM sqlite_master WHERE type='table';\", conn))\n",
    "\n",
    "# ---- Close the connection ----\n",
    "conn.close()\n"
   ]
  }
 ],
 "metadata": {
  "kernelspec": {
   "display_name": "Python 3",
   "language": "python",
   "name": "python3"
  },
  "language_info": {
   "codemirror_mode": {
    "name": "ipython",
    "version": 3
   },
   "file_extension": ".py",
   "mimetype": "text/x-python",
   "name": "python",
   "nbconvert_exporter": "python",
   "pygments_lexer": "ipython3",
   "version": "3.12.1"
  }
 },
 "nbformat": 4,
 "nbformat_minor": 5
}
