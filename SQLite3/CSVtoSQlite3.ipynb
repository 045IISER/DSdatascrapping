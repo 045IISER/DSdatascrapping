{
 "cells": [
  {
   "cell_type": "code",
   "execution_count": null,
   "id": "1403eba3",
   "metadata": {},
   "outputs": [],
   "source": [
    "import pandas as pd\n",
    "import sqlite3\n",
    "\n",
    "# ---- Step 1: specify your CSV file paths ----\n",
    "# Example paths — change these to your actual file locations\n",
    "csv_file1 = \"faculty_with_phd.csv\"\n",
    "csv_file2 = \"iiserkol_facultybio.csv\"\n",
    "csv_file3 = \"iiserkol_facultyphy.csv\"\n",
    "csv_file4 = \"iiserkol_facultychem.csv\"\n",
    "csv_file5 = \"iiserkol_facultymath.csv\"\n",
    "csv_file5 = \"nisersbs_faculty.csv\"\n",
    "csv_file5 = \"nisersbs_faculty.csv\"\n",
    "csv_file5 = \"nisersbs_faculty.csv\"\n",
    "csv_file5 = \"nisersbs_faculty.csv\"\n",
    "# ---- Step 2: connect/create SQLite database ----\n",
    "conn = sqlite3.connect(\"Faculty_data.db\")\n",
    "\n",
    "# ---- Step 3: read both CSVs into pandas ----\n",
    "df1 = pd.read_csv(csv_file1)\n",
    "df2 = pd.read_csv(csv_file2)\n",
    "\n",
    "# ---- Step 4: write them into SQLite tables ----\n",
    "df1.to_sql(\"table1\", conn, if_exists=\"replace\", index=False)\n",
    "df2.to_sql(\"table2\", conn, if_exists=\"replace\", index=False)\n",
    "\n",
    "print(\"✅ Both CSVs successfully saved to SQLite database as 'table1' and 'table2'.\")\n",
    "\n",
    "# ---- Optional: verify tables ----\n",
    "print(pd.read_sql(\"SELECT name FROM sqlite_master WHERE type='table';\", conn))\n",
    "\n",
    "# ---- Close the connection ----\n",
    "conn.close()\n"
   ]
  }
 ],
 "metadata": {
  "language_info": {
   "name": "python"
  }
 },
 "nbformat": 4,
 "nbformat_minor": 5
}
